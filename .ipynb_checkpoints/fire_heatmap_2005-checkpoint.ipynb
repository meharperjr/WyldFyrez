{
 "cells": [
  {
   "cell_type": "code",
   "execution_count": 2,
   "metadata": {},
   "outputs": [
    {
     "ename": "ModuleNotFoundError",
     "evalue": "No module named 'config'",
     "output_type": "error",
     "traceback": [
      "\u001b[1;31m---------------------------------------------------------------------------\u001b[0m",
      "\u001b[1;31mModuleNotFoundError\u001b[0m                       Traceback (most recent call last)",
      "\u001b[1;32m<ipython-input-2-2fe41b420be8>\u001b[0m in \u001b[0;36m<module>\u001b[1;34m\u001b[0m\n\u001b[0;32m      3\u001b[0m \u001b[1;33m\u001b[0m\u001b[0m\n\u001b[0;32m      4\u001b[0m \u001b[1;31m# Google developer API key\u001b[0m\u001b[1;33m\u001b[0m\u001b[1;33m\u001b[0m\u001b[1;33m\u001b[0m\u001b[0m\n\u001b[1;32m----> 5\u001b[1;33m \u001b[1;32mfrom\u001b[0m \u001b[0mconfig\u001b[0m \u001b[1;32mimport\u001b[0m \u001b[0mgkey\u001b[0m\u001b[1;33m\u001b[0m\u001b[1;33m\u001b[0m\u001b[0m\n\u001b[0m\u001b[0;32m      6\u001b[0m \u001b[1;33m\u001b[0m\u001b[0m\n\u001b[0;32m      7\u001b[0m \u001b[1;31m# Configure gmaps\u001b[0m\u001b[1;33m\u001b[0m\u001b[1;33m\u001b[0m\u001b[1;33m\u001b[0m\u001b[0m\n",
      "\u001b[1;31mModuleNotFoundError\u001b[0m: No module named 'config'"
     ]
    }
   ],
   "source": [
    "import gmaps\n",
    "import pandas as pd\n",
    "\n",
    "# Google developer API key\n",
    "from config import gkey\n",
    "\n",
    "# Configure gmaps\n",
    "gmaps.configure(api_key=gkey)"
   ]
  },
  {
   "cell_type": "code",
   "execution_count": 4,
   "metadata": {},
   "outputs": [
    {
     "data": {
      "text/html": [
       "<div>\n",
       "<style scoped>\n",
       "    .dataframe tbody tr th:only-of-type {\n",
       "        vertical-align: middle;\n",
       "    }\n",
       "\n",
       "    .dataframe tbody tr th {\n",
       "        vertical-align: top;\n",
       "    }\n",
       "\n",
       "    .dataframe thead th {\n",
       "        text-align: right;\n",
       "    }\n",
       "</style>\n",
       "<table border=\"1\" class=\"dataframe\">\n",
       "  <thead>\n",
       "    <tr style=\"text-align: right;\">\n",
       "      <th></th>\n",
       "      <th>OBJECTID</th>\n",
       "      <th>STAT_CAUSE_DESCR</th>\n",
       "      <th>STATE</th>\n",
       "      <th>Date_Discovery</th>\n",
       "      <th>Date_Contained</th>\n",
       "      <th>FIRE_YEAR</th>\n",
       "      <th>FIRE_SIZE</th>\n",
       "      <th>LATITUDE</th>\n",
       "      <th>LONGITUDE</th>\n",
       "      <th>Duration</th>\n",
       "    </tr>\n",
       "  </thead>\n",
       "  <tbody>\n",
       "    <tr>\n",
       "      <th>0</th>\n",
       "      <td>1</td>\n",
       "      <td>Miscellaneous</td>\n",
       "      <td>CA</td>\n",
       "      <td>2/2/2005</td>\n",
       "      <td>2/2/2005</td>\n",
       "      <td>2005</td>\n",
       "      <td>0.1</td>\n",
       "      <td>40.036944</td>\n",
       "      <td>-121.005833</td>\n",
       "      <td>0</td>\n",
       "    </tr>\n",
       "    <tr>\n",
       "      <th>1</th>\n",
       "      <td>8</td>\n",
       "      <td>Debris Burning</td>\n",
       "      <td>CA</td>\n",
       "      <td>3/8/2005</td>\n",
       "      <td>3/8/2005</td>\n",
       "      <td>2005</td>\n",
       "      <td>0.8</td>\n",
       "      <td>40.968056</td>\n",
       "      <td>-122.433889</td>\n",
       "      <td>0</td>\n",
       "    </tr>\n",
       "    <tr>\n",
       "      <th>2</th>\n",
       "      <td>9</td>\n",
       "      <td>Debris Burning</td>\n",
       "      <td>CA</td>\n",
       "      <td>3/15/2005</td>\n",
       "      <td>3/15/2005</td>\n",
       "      <td>2005</td>\n",
       "      <td>1.0</td>\n",
       "      <td>41.233611</td>\n",
       "      <td>-122.283333</td>\n",
       "      <td>0</td>\n",
       "    </tr>\n",
       "    <tr>\n",
       "      <th>3</th>\n",
       "      <td>32</td>\n",
       "      <td>Campfire</td>\n",
       "      <td>OR</td>\n",
       "      <td>2/5/2005</td>\n",
       "      <td>2/6/2005</td>\n",
       "      <td>2005</td>\n",
       "      <td>0.1</td>\n",
       "      <td>43.995556</td>\n",
       "      <td>-121.414167</td>\n",
       "      <td>1</td>\n",
       "    </tr>\n",
       "    <tr>\n",
       "      <th>4</th>\n",
       "      <td>36</td>\n",
       "      <td>Campfire</td>\n",
       "      <td>OR</td>\n",
       "      <td>3/5/2005</td>\n",
       "      <td>3/5/2005</td>\n",
       "      <td>2005</td>\n",
       "      <td>0.1</td>\n",
       "      <td>44.043333</td>\n",
       "      <td>-121.386111</td>\n",
       "      <td>0</td>\n",
       "    </tr>\n",
       "  </tbody>\n",
       "</table>\n",
       "</div>"
      ],
      "text/plain": [
       "   OBJECTID STAT_CAUSE_DESCR STATE Date_Discovery Date_Contained  FIRE_YEAR  \\\n",
       "0         1    Miscellaneous    CA       2/2/2005       2/2/2005       2005   \n",
       "1         8   Debris Burning    CA       3/8/2005       3/8/2005       2005   \n",
       "2         9   Debris Burning    CA      3/15/2005      3/15/2005       2005   \n",
       "3        32         Campfire    OR       2/5/2005       2/6/2005       2005   \n",
       "4        36         Campfire    OR       3/5/2005       3/5/2005       2005   \n",
       "\n",
       "   FIRE_SIZE   LATITUDE   LONGITUDE  Duration  \n",
       "0        0.1  40.036944 -121.005833         0  \n",
       "1        0.8  40.968056 -122.433889         0  \n",
       "2        1.0  41.233611 -122.283333         0  \n",
       "3        0.1  43.995556 -121.414167         1  \n",
       "4        0.1  44.043333 -121.386111         0  "
      ]
     },
     "execution_count": 4,
     "metadata": {},
     "output_type": "execute_result"
    }
   ],
   "source": [
    "# Create the fire dataframe\n",
    "fire_map_df = pd.read_csv('Resources/fire_2005V2.csv')\n",
    "fire_map_df.head()"
   ]
  },
  {
   "cell_type": "code",
   "execution_count": 10,
   "metadata": {},
   "outputs": [],
   "source": [
    "# Store latitude and longitude in locations\n",
    "locations = fire_map_df[[\"LATITUDE\", \"LONGITUDE\"]]"
   ]
  },
  {
   "cell_type": "code",
   "execution_count": 11,
   "metadata": {},
   "outputs": [
    {
     "data": {
      "application/vnd.jupyter.widget-view+json": {
       "model_id": "5d9057bdd3184c3da7f2f09c20dc2257",
       "version_major": 2,
       "version_minor": 0
      },
      "text/plain": [
       "Figure(layout=FigureLayout(height='420px'))"
      ]
     },
     "metadata": {},
     "output_type": "display_data"
    }
   ],
   "source": [
    "# Plot Heatmap\n",
    "fig = gmaps.figure()\n",
    "\n",
    "# Fill NaN values and convert to float\n",
    "size = fire_map_df[\"FIRE_SIZE\"].astype(float)\n",
    "\n",
    "heat_layer = gmaps.heatmap_layer(locations, weights=size, \n",
    "                                 dissipating=False, max_intensity=10,\n",
    "                                 point_radius=0.1)\n",
    "\n",
    "# Add layer\n",
    "fig.add_layer(heat_layer)\n",
    "\n",
    "# Display figure\n",
    "fig"
   ]
  },
  {
   "cell_type": "code",
   "execution_count": 12,
   "metadata": {
    "scrolled": true
   },
   "outputs": [
    {
     "data": {
      "application/vnd.jupyter.widget-view+json": {
       "model_id": "cce03ce2ddb140bb97da128f895a2b15",
       "version_major": 2,
       "version_minor": 0
      },
      "text/plain": [
       "Figure(layout=FigureLayout(height='420px'))"
      ]
     },
     "metadata": {},
     "output_type": "display_data"
    }
   ],
   "source": [
    "# Plot Heatmap\n",
    "fig1 = gmaps.figure()\n",
    "\n",
    "# Fill NaN values and convert to float\n",
    "duration = fire_map_df[\"Duration\"].astype(float)\n",
    "\n",
    "heat_layer_duration = gmaps.heatmap_layer(locations, weights=duration, \n",
    "                                 dissipating=False, max_intensity=10,\n",
    "                                 point_radius=0.1)\n",
    "\n",
    "# Add layer\n",
    "fig1.add_layer(heat_layer_duration)\n",
    "\n",
    "# Display figure\n",
    "fig1"
   ]
  },
  {
   "cell_type": "code",
   "execution_count": null,
   "metadata": {},
   "outputs": [],
   "source": []
  }
 ],
 "metadata": {
  "kernelspec": {
   "display_name": "Python [conda env:.conda-PythonData] *",
   "language": "python",
   "name": "conda-env-.conda-PythonData-py"
  },
  "language_info": {
   "codemirror_mode": {
    "name": "ipython",
    "version": 3
   },
   "file_extension": ".py",
   "mimetype": "text/x-python",
   "name": "python",
   "nbconvert_exporter": "python",
   "pygments_lexer": "ipython3",
   "version": "3.6.8"
  }
 },
 "nbformat": 4,
 "nbformat_minor": 2
}
