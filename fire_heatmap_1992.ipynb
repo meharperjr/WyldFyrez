{
 "cells": [
  {
   "cell_type": "code",
   "execution_count": 1,
   "metadata": {},
   "outputs": [],
   "source": [
    "import gmaps\n",
    "import pandas as pd\n",
    "\n",
    "# Google developer API key\n",
    "from config import gkey\n",
    "\n",
    "# Configure gmaps\n",
    "gmaps.configure(api_key=gkey)"
   ]
  },
  {
   "cell_type": "code",
   "execution_count": 2,
   "metadata": {},
   "outputs": [
    {
     "data": {
      "text/html": [
       "<div>\n",
       "<style scoped>\n",
       "    .dataframe tbody tr th:only-of-type {\n",
       "        vertical-align: middle;\n",
       "    }\n",
       "\n",
       "    .dataframe tbody tr th {\n",
       "        vertical-align: top;\n",
       "    }\n",
       "\n",
       "    .dataframe thead th {\n",
       "        text-align: right;\n",
       "    }\n",
       "</style>\n",
       "<table border=\"1\" class=\"dataframe\">\n",
       "  <thead>\n",
       "    <tr style=\"text-align: right;\">\n",
       "      <th></th>\n",
       "      <th>Unnamed: 0</th>\n",
       "      <th>OBJECTID</th>\n",
       "      <th>STAT_CAUSE_DESCR</th>\n",
       "      <th>STATE</th>\n",
       "      <th>Date_Discovery</th>\n",
       "      <th>Date_Contained</th>\n",
       "      <th>FIRE_YEAR</th>\n",
       "      <th>FIRE_SIZE</th>\n",
       "      <th>LATITUDE</th>\n",
       "      <th>LONGITUDE</th>\n",
       "      <th>Duration</th>\n",
       "    </tr>\n",
       "  </thead>\n",
       "  <tbody>\n",
       "    <tr>\n",
       "      <th>0</th>\n",
       "      <td>40895</td>\n",
       "      <td>42001</td>\n",
       "      <td>Lightning</td>\n",
       "      <td>MT</td>\n",
       "      <td>8/21/1992</td>\n",
       "      <td>8/22/1992</td>\n",
       "      <td>1992</td>\n",
       "      <td>0.1</td>\n",
       "      <td>45.906667</td>\n",
       "      <td>-113.993333</td>\n",
       "      <td>1</td>\n",
       "    </tr>\n",
       "    <tr>\n",
       "      <th>1</th>\n",
       "      <td>40896</td>\n",
       "      <td>42002</td>\n",
       "      <td>Lightning</td>\n",
       "      <td>MT</td>\n",
       "      <td>8/25/1992</td>\n",
       "      <td>8/25/1992</td>\n",
       "      <td>1992</td>\n",
       "      <td>0.3</td>\n",
       "      <td>45.891667</td>\n",
       "      <td>-113.693333</td>\n",
       "      <td>0</td>\n",
       "    </tr>\n",
       "    <tr>\n",
       "      <th>2</th>\n",
       "      <td>40897</td>\n",
       "      <td>42003</td>\n",
       "      <td>Campfire</td>\n",
       "      <td>MT</td>\n",
       "      <td>9/12/1992</td>\n",
       "      <td>9/12/1992</td>\n",
       "      <td>1992</td>\n",
       "      <td>0.1</td>\n",
       "      <td>45.693333</td>\n",
       "      <td>-113.958333</td>\n",
       "      <td>0</td>\n",
       "    </tr>\n",
       "    <tr>\n",
       "      <th>3</th>\n",
       "      <td>40898</td>\n",
       "      <td>42004</td>\n",
       "      <td>Lightning</td>\n",
       "      <td>MT</td>\n",
       "      <td>8/19/1992</td>\n",
       "      <td>8/20/1992</td>\n",
       "      <td>1992</td>\n",
       "      <td>0.1</td>\n",
       "      <td>46.028333</td>\n",
       "      <td>-113.701667</td>\n",
       "      <td>1</td>\n",
       "    </tr>\n",
       "    <tr>\n",
       "      <th>4</th>\n",
       "      <td>40899</td>\n",
       "      <td>42005</td>\n",
       "      <td>Lightning</td>\n",
       "      <td>MT</td>\n",
       "      <td>5/19/1992</td>\n",
       "      <td>5/20/1992</td>\n",
       "      <td>1992</td>\n",
       "      <td>0.1</td>\n",
       "      <td>45.883333</td>\n",
       "      <td>-114.200000</td>\n",
       "      <td>1</td>\n",
       "    </tr>\n",
       "  </tbody>\n",
       "</table>\n",
       "</div>"
      ],
      "text/plain": [
       "   Unnamed: 0  OBJECTID STAT_CAUSE_DESCR STATE Date_Discovery Date_Contained  \\\n",
       "0       40895     42001        Lightning    MT      8/21/1992      8/22/1992   \n",
       "1       40896     42002        Lightning    MT      8/25/1992      8/25/1992   \n",
       "2       40897     42003         Campfire    MT      9/12/1992      9/12/1992   \n",
       "3       40898     42004        Lightning    MT      8/19/1992      8/20/1992   \n",
       "4       40899     42005        Lightning    MT      5/19/1992      5/20/1992   \n",
       "\n",
       "   FIRE_YEAR  FIRE_SIZE   LATITUDE   LONGITUDE  Duration  \n",
       "0       1992        0.1  45.906667 -113.993333         1  \n",
       "1       1992        0.3  45.891667 -113.693333         0  \n",
       "2       1992        0.1  45.693333 -113.958333         0  \n",
       "3       1992        0.1  46.028333 -113.701667         1  \n",
       "4       1992        0.1  45.883333 -114.200000         1  "
      ]
     },
     "execution_count": 2,
     "metadata": {},
     "output_type": "execute_result"
    }
   ],
   "source": [
    "# Create the fire dataframe\n",
    "fire_map_df = pd.read_csv('fire_1992V2.csv')\n",
    "fire_map_df.head()"
   ]
  },
  {
   "cell_type": "code",
   "execution_count": 3,
   "metadata": {},
   "outputs": [],
   "source": [
    "# Store latitude and longitude in locations\n",
    "locations = fire_map_df[[\"LATITUDE\", \"LONGITUDE\"]]"
   ]
  },
  {
   "cell_type": "code",
   "execution_count": 5,
   "metadata": {},
   "outputs": [
    {
     "data": {
      "application/vnd.jupyter.widget-view+json": {
       "model_id": "0c41456cb74d4b93957f8fc1bf992a5d",
       "version_major": 2,
       "version_minor": 0
      },
      "text/plain": [
       "Figure(layout=FigureLayout(height='420px'))"
      ]
     },
     "metadata": {},
     "output_type": "display_data"
    }
   ],
   "source": [
    "# Plot Heatmap\n",
    "fig = gmaps.figure()\n",
    "\n",
    "# Fill NaN values and convert to float\n",
    "size = fire_map_df[\"FIRE_SIZE\"].astype(float)\n",
    "\n",
    "heat_layer = gmaps.heatmap_layer(locations, weights=size, \n",
    "                                 dissipating=False, max_intensity=10,\n",
    "                                 point_radius=0.1)\n",
    "\n",
    "# Add layer\n",
    "fig.add_layer(heat_layer)\n",
    "\n",
    "# Display figure\n",
    "fig"
   ]
  },
  {
   "cell_type": "code",
   "execution_count": 6,
   "metadata": {},
   "outputs": [
    {
     "data": {
      "application/vnd.jupyter.widget-view+json": {
       "model_id": "923fddb7e4874685b9c18f5b290fe5ea",
       "version_major": 2,
       "version_minor": 0
      },
      "text/plain": [
       "Figure(layout=FigureLayout(height='420px'))"
      ]
     },
     "metadata": {},
     "output_type": "display_data"
    }
   ],
   "source": [
    "# Plot Heatmap\n",
    "fig1 = gmaps.figure()\n",
    "\n",
    "# Fill NaN values and convert to float\n",
    "duration = fire_map_df[\"Duration\"].astype(float)\n",
    "\n",
    "heat_layer_duration = gmaps.heatmap_layer(locations, weights=duration, \n",
    "                                 dissipating=False, max_intensity=10,\n",
    "                                 point_radius=0.1)\n",
    "\n",
    "# Add layer\n",
    "fig1.add_layer(heat_layer_duration)\n",
    "\n",
    "# Display figure\n",
    "fig1"
   ]
  },
  {
   "cell_type": "code",
   "execution_count": null,
   "metadata": {},
   "outputs": [],
   "source": []
  }
 ],
 "metadata": {
  "kernelspec": {
   "display_name": "Python [conda env:PythonData] *",
   "language": "python",
   "name": "conda-env-PythonData-py"
  },
  "language_info": {
   "codemirror_mode": {
    "name": "ipython",
    "version": 3
   },
   "file_extension": ".py",
   "mimetype": "text/x-python",
   "name": "python",
   "nbconvert_exporter": "python",
   "pygments_lexer": "ipython3",
   "version": "3.6.8"
  }
 },
 "nbformat": 4,
 "nbformat_minor": 2
}
