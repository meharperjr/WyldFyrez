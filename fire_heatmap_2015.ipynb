{
 "cells": [
  {
   "cell_type": "code",
   "execution_count": 28,
   "metadata": {},
   "outputs": [],
   "source": [
    "import gmaps\n",
    "import pandas as pd\n",
    "\n",
    "# Google developer API key\n",
    "from config import gkey\n",
    "\n",
    "# Configure gmaps\n",
    "gmaps.configure(api_key=gkey)"
   ]
  },
  {
   "cell_type": "code",
   "execution_count": 29,
   "metadata": {},
   "outputs": [
    {
     "data": {
      "text/html": [
       "<div>\n",
       "<style scoped>\n",
       "    .dataframe tbody tr th:only-of-type {\n",
       "        vertical-align: middle;\n",
       "    }\n",
       "\n",
       "    .dataframe tbody tr th {\n",
       "        vertical-align: top;\n",
       "    }\n",
       "\n",
       "    .dataframe thead th {\n",
       "        text-align: right;\n",
       "    }\n",
       "</style>\n",
       "<table border=\"1\" class=\"dataframe\">\n",
       "  <thead>\n",
       "    <tr style=\"text-align: right;\">\n",
       "      <th></th>\n",
       "      <th>Unnamed: 0</th>\n",
       "      <th>OBJECTID</th>\n",
       "      <th>STAT_CAUSE_DESCR</th>\n",
       "      <th>STATE</th>\n",
       "      <th>Date_Discovery</th>\n",
       "      <th>Date_Contained</th>\n",
       "      <th>FIRE_YEAR</th>\n",
       "      <th>FIRE_SIZE</th>\n",
       "      <th>LATITUDE</th>\n",
       "      <th>LONGITUDE</th>\n",
       "      <th>Duration</th>\n",
       "    </tr>\n",
       "  </thead>\n",
       "  <tbody>\n",
       "    <tr>\n",
       "      <th>0</th>\n",
       "      <td>923730</td>\n",
       "      <td>1789012</td>\n",
       "      <td>Lightning</td>\n",
       "      <td>MT</td>\n",
       "      <td>8/14/2015</td>\n",
       "      <td>8/15/2015</td>\n",
       "      <td>2015</td>\n",
       "      <td>0.10</td>\n",
       "      <td>45.934167</td>\n",
       "      <td>-113.020833</td>\n",
       "      <td>1</td>\n",
       "    </tr>\n",
       "    <tr>\n",
       "      <th>1</th>\n",
       "      <td>923731</td>\n",
       "      <td>1789014</td>\n",
       "      <td>Lightning</td>\n",
       "      <td>MT</td>\n",
       "      <td>7/14/2015</td>\n",
       "      <td>7/15/2015</td>\n",
       "      <td>2015</td>\n",
       "      <td>0.25</td>\n",
       "      <td>45.727222</td>\n",
       "      <td>-112.943889</td>\n",
       "      <td>1</td>\n",
       "    </tr>\n",
       "    <tr>\n",
       "      <th>2</th>\n",
       "      <td>923732</td>\n",
       "      <td>1789016</td>\n",
       "      <td>Miscellaneous</td>\n",
       "      <td>MT</td>\n",
       "      <td>9/29/2015</td>\n",
       "      <td>10/26/2015</td>\n",
       "      <td>2015</td>\n",
       "      <td>0.10</td>\n",
       "      <td>44.416667</td>\n",
       "      <td>-112.843333</td>\n",
       "      <td>27</td>\n",
       "    </tr>\n",
       "    <tr>\n",
       "      <th>3</th>\n",
       "      <td>923733</td>\n",
       "      <td>1789017</td>\n",
       "      <td>Lightning</td>\n",
       "      <td>MT</td>\n",
       "      <td>6/30/2015</td>\n",
       "      <td>7/2/2015</td>\n",
       "      <td>2015</td>\n",
       "      <td>0.25</td>\n",
       "      <td>46.052222</td>\n",
       "      <td>-113.635556</td>\n",
       "      <td>2</td>\n",
       "    </tr>\n",
       "    <tr>\n",
       "      <th>4</th>\n",
       "      <td>923734</td>\n",
       "      <td>1789018</td>\n",
       "      <td>Miscellaneous</td>\n",
       "      <td>MT</td>\n",
       "      <td>5/26/2015</td>\n",
       "      <td>5/26/2015</td>\n",
       "      <td>2015</td>\n",
       "      <td>0.10</td>\n",
       "      <td>46.234444</td>\n",
       "      <td>-113.301667</td>\n",
       "      <td>0</td>\n",
       "    </tr>\n",
       "  </tbody>\n",
       "</table>\n",
       "</div>"
      ],
      "text/plain": [
       "   Unnamed: 0  OBJECTID STAT_CAUSE_DESCR STATE Date_Discovery Date_Contained  \\\n",
       "0      923730   1789012        Lightning    MT      8/14/2015      8/15/2015   \n",
       "1      923731   1789014        Lightning    MT      7/14/2015      7/15/2015   \n",
       "2      923732   1789016    Miscellaneous    MT      9/29/2015     10/26/2015   \n",
       "3      923733   1789017        Lightning    MT      6/30/2015       7/2/2015   \n",
       "4      923734   1789018    Miscellaneous    MT      5/26/2015      5/26/2015   \n",
       "\n",
       "   FIRE_YEAR  FIRE_SIZE   LATITUDE   LONGITUDE  Duration  \n",
       "0       2015       0.10  45.934167 -113.020833         1  \n",
       "1       2015       0.25  45.727222 -112.943889         1  \n",
       "2       2015       0.10  44.416667 -112.843333        27  \n",
       "3       2015       0.25  46.052222 -113.635556         2  \n",
       "4       2015       0.10  46.234444 -113.301667         0  "
      ]
     },
     "execution_count": 29,
     "metadata": {},
     "output_type": "execute_result"
    }
   ],
   "source": [
    "# Create the fire dataframe\n",
    "fire_map_df = pd.read_csv('fire_2015V2.csv', low_memory=False)\n",
    "fire_map_df.head()"
   ]
  },
  {
   "cell_type": "code",
   "execution_count": 30,
   "metadata": {},
   "outputs": [
    {
     "name": "stdout",
     "output_type": "stream",
     "text": [
      "Unnamed: 0            int64\n",
      "OBJECTID              int64\n",
      "STAT_CAUSE_DESCR     object\n",
      "STATE                object\n",
      "Date_Discovery       object\n",
      "Date_Contained       object\n",
      "FIRE_YEAR             int64\n",
      "FIRE_SIZE           float64\n",
      "LATITUDE            float64\n",
      "LONGITUDE           float64\n",
      "Duration              int64\n",
      "dtype: object\n"
     ]
    }
   ],
   "source": [
    "# Store latitude and longitude in locations\n",
    "locations = fire_map_df[[\"LATITUDE\", \"LONGITUDE\"]]\n",
    "print (fire_map_df.dtypes)"
   ]
  },
  {
   "cell_type": "code",
   "execution_count": 31,
   "metadata": {},
   "outputs": [
    {
     "data": {
      "application/vnd.jupyter.widget-view+json": {
       "model_id": "e59670a9af1948e58e162718a0e3f4c9",
       "version_major": 2,
       "version_minor": 0
      },
      "text/plain": [
       "Figure(layout=FigureLayout(height='420px'))"
      ]
     },
     "metadata": {},
     "output_type": "display_data"
    }
   ],
   "source": [
    "# Plot Heatmap\n",
    "fig = gmaps.figure()\n",
    "\n",
    "# Fill NaN values and convert to float\n",
    "size = fire_map_df[\"FIRE_SIZE\"].astype(float)\n",
    "\n",
    "heat_layer = gmaps.heatmap_layer(locations, weights=size, \n",
    "                                 dissipating=False, max_intensity=10,\n",
    "                                 point_radius=0.1)\n",
    "\n",
    "# Add layer\n",
    "fig.add_layer(heat_layer)\n",
    "\n",
    "# Display figure\n",
    "fig"
   ]
  },
  {
   "cell_type": "code",
   "execution_count": 26,
   "metadata": {},
   "outputs": [
    {
     "data": {
      "application/vnd.jupyter.widget-view+json": {
       "model_id": "06cf97fb7c894eaeb0d2bcf9755ad32e",
       "version_major": 2,
       "version_minor": 0
      },
      "text/plain": [
       "Figure(layout=FigureLayout(height='420px'))"
      ]
     },
     "metadata": {},
     "output_type": "display_data"
    }
   ],
   "source": [
    "# Plot Heatmap\n",
    "fig1 = gmaps.figure()\n",
    "\n",
    "# Fill NaN values and convert to float\n",
    "duration = fire_map_df[\"Duration\"].astype(float)\n",
    "\n",
    "heat_layer_duration = gmaps.heatmap_layer(locations, weights=duration, \n",
    "                                 dissipating=False, max_intensity=10,\n",
    "                                 point_radius=0.1)\n",
    "\n",
    "# Add layer\n",
    "fig1.add_layer(heat_layer_duration)\n",
    "\n",
    "# Display figure\n",
    "fig1"
   ]
  },
  {
   "cell_type": "code",
   "execution_count": null,
   "metadata": {},
   "outputs": [],
   "source": []
  }
 ],
 "metadata": {
  "kernelspec": {
   "display_name": "Python [conda env:PythonData] *",
   "language": "python",
   "name": "conda-env-PythonData-py"
  },
  "language_info": {
   "codemirror_mode": {
    "name": "ipython",
    "version": 3
   },
   "file_extension": ".py",
   "mimetype": "text/x-python",
   "name": "python",
   "nbconvert_exporter": "python",
   "pygments_lexer": "ipython3",
   "version": "3.6.8"
  }
 },
 "nbformat": 4,
 "nbformat_minor": 2
}
